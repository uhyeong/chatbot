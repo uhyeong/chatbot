{
 "cells": [
  {
   "cell_type": "code",
   "execution_count": null,
   "id": "ea48e4ad",
   "metadata": {},
   "outputs": [],
   "source": [
    "import boto3\n",
    "\n",
    "ssm = boto3.client('ssm')\n",
    "parameter = ssm.get_parameter(Name='/TEST/CICD/STREAMLIT/GROQ_API_KEY', WithDecryption=True)\n",
    "# print(parameter['Parameter']['Value'])"
   ]
  },
  {
   "cell_type": "code",
   "execution_count": null,
   "id": "cab77e37",
   "metadata": {},
   "outputs": [],
   "source": []
  }
 ],
 "metadata": {
  "kernelspec": {
   "display_name": ".venv",
   "language": "python",
   "name": "python3"
  },
  "language_info": {
   "codemirror_mode": {
    "name": "ipython",
    "version": 3
   },
   "file_extension": ".py",
   "mimetype": "text/x-python",
   "name": "python",
   "nbconvert_exporter": "python",
   "pygments_lexer": "ipython3",
   "version": "3.13.2"
  }
 },
 "nbformat": 4,
 "nbformat_minor": 5
}
